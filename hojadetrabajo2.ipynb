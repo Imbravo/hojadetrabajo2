{
 "cells": [
  {
   "cell_type": "markdown",
   "source": [
    "Ciencia de Datos en Python\n",
    "Hoja de Trabajo #2 - Sintaxis y Estructuras de Datos"
   ],
   "metadata": {
    "collapsed": false,
    "pycharm": {
     "name": "#%% md\n"
    }
   }
  },
  {
   "cell_type": "markdown",
   "source": [
    "1. Haga un programa en Python que reciba de parametro un numero de segundos y que despliegue en pantalla, las horas, minutos y segundos que representan. Por ejemplo:\n",
    "Si el número de segundos recibidos fuera: 2743 entonces su programa debería desplegar:\n",
    "Horas: 0, Minutos: 45 , Segundos: 43\n",
    "Si el número de segundos recibidos fuera 5871: Horas: 1, Minutos: 37 , Segundos: 51"
   ],
   "metadata": {
    "collapsed": false,
    "pycharm": {
     "name": "#%% md\n"
    }
   }
  },
  {
   "cell_type": "code",
   "execution_count": 29,
   "outputs": [],
   "source": [
    "def secsTohours(seconds):\n",
    "    hours = seconds // 3600\n",
    "    seconds = seconds % 3600\n",
    "    minutes = seconds // 60\n",
    "    seconds = seconds % 60\n",
    "\n",
    "    print(\"Horas: \"+str(hours)+\" Minutos: \"+ str(minutes) + \" Segundos: \"+str(seconds))"
   ],
   "metadata": {
    "collapsed": false,
    "pycharm": {
     "name": "#%%\n"
    }
   }
  },
  {
   "cell_type": "code",
   "execution_count": 30,
   "outputs": [
    {
     "name": "stdout",
     "output_type": "stream",
     "text": [
      "Horas: 1 Minutos: 37 Segundos: 51\n"
     ]
    }
   ],
   "source": [
    "secsTohours(5871)"
   ],
   "metadata": {
    "collapsed": false,
    "pycharm": {
     "name": "#%%\n"
    }
   }
  },
  {
   "cell_type": "markdown",
   "source": [
    "2. Haga una funcion en Python que dado un numero entre 1 y 20. Y un caracter cualquiera\n",
    "despliegue cuatro patrones triangulares.\n",
    "Por ejemplo si el usuario ingresara el numero 4 y el sımbolo * el programa debería desplegar\n",
    "lo siguiente:"
   ],
   "metadata": {
    "collapsed": false,
    "pycharm": {
     "name": "#%% md\n"
    }
   }
  },
  {
   "cell_type": "code",
   "execution_count": 48,
   "outputs": [
    {
     "name": "stdout",
     "output_type": "stream",
     "text": [
      "*\n",
      "**\n",
      "***\n",
      "****\n",
      " \n",
      "****\n",
      " ***\n",
      "  **\n",
      "   *\n",
      " \n",
      "****\n",
      "***\n",
      "**\n",
      "*\n",
      " \n",
      "   *\n",
      "  **\n",
      " ***\n",
      "****\n"
     ]
    }
   ],
   "source": [
    "def triangles(number, symbol):\n",
    "    for num in range(1, number+1):\n",
    "        print(symbol*num)\n",
    "\n",
    "    print(\" \")\n",
    "    for num in range(number, 0, -1):\n",
    "        print(\" \"*(number-num) + symbol*num)\n",
    "\n",
    "    print(\" \")\n",
    "    for num in range(number, 0, -1):\n",
    "        print(symbol*num)\n",
    "\n",
    "    print(\" \")\n",
    "\n",
    "    for num in range(1, number+1):\n",
    "        print(\" \"*(number-num) + symbol*num )\n",
    "\n",
    "triangles(4, \"*\")"
   ],
   "metadata": {
    "collapsed": false,
    "pycharm": {
     "name": "#%%\n"
    }
   }
  },
  {
   "cell_type": "markdown",
   "source": [
    "3. Haga un programa en Python que la fecha de nacimiento de una persona (puede ingresar por\n",
    "separado cada valor, es decir pedir primero día, luego mes y luego año), despliegue la edad\n",
    "de la persona en años, meses y días. Su resultado puede ser aproximado."
   ],
   "metadata": {
    "collapsed": false,
    "pycharm": {
     "name": "#%% md\n"
    }
   }
  },
  {
   "cell_type": "code",
   "execution_count": 32,
   "outputs": [],
   "source": [
    "from datetime import date\n",
    "def bdToTime(day, month, year):\n",
    "\n",
    "    dateNow = date.today()\n",
    "    birth = date(year, month, day)\n",
    "    date_delta = dateNow - birth\n",
    "\n",
    "    age_years = date_delta.days // 365\n",
    "    days_diff = date_delta.days % 365\n",
    "    age_months = days_diff // 30\n",
    "    age_days = days_diff % 30\n",
    "\n",
    "    print(\"Años \"+ str(age_years) + \" Meses: \"+ str(age_months) + \" Dias: \"+ str(age_days))\n"
   ],
   "metadata": {
    "collapsed": false,
    "pycharm": {
     "name": "#%%\n"
    }
   }
  },
  {
   "cell_type": "code",
   "execution_count": 33,
   "outputs": [
    {
     "name": "stdout",
     "output_type": "stream",
     "text": [
      "Años 27 Meses: 3 Dias: 7\n"
     ]
    }
   ],
   "source": [
    "bdToTime(29,11,1995)"
   ],
   "metadata": {
    "collapsed": false,
    "pycharm": {
     "name": "#%%\n"
    }
   }
  },
  {
   "cell_type": "markdown",
   "source": [
    "ejercicio 4\n",
    "Escriba una funcion en Python que dada una tupla de elementos (números o letras) esta se\n",
    "convierta a un string. Tomar nota del siguiente ejemplo:\n",
    "Si la entrada fuera: (10, 20, 40, 5, 70)\n",
    "La salida debería ser: 102040570"
   ],
   "metadata": {
    "collapsed": false,
    "pycharm": {
     "name": "#%% md\n"
    }
   }
  },
  {
   "cell_type": "code",
   "execution_count": 34,
   "outputs": [
    {
     "name": "stdout",
     "output_type": "stream",
     "text": [
      "102040570\n"
     ]
    }
   ],
   "source": [
    "def concat_tuple(tuple):\n",
    "\n",
    "    string = [ str(i) for i in tuple]\n",
    "    result = \"\".join(string)\n",
    "    return result\n",
    "\n",
    "print(concat_tuple((10,20,40,5,70)))"
   ],
   "metadata": {
    "collapsed": false,
    "pycharm": {
     "name": "#%%\n"
    }
   }
  },
  {
   "cell_type": "markdown",
   "source": [
    "Ejercicio 5\n",
    "Cree un programa en Python que dada una lista de tuplas, elimine las tuplas que están vacías.\n",
    "Tomar nota del siguiente ejemplo:\n",
    "Si la lista fuera: [(), (), (’X’,), (’a’, ’b’), (’a’, ’b’, ’c’), (’d’)]\n",
    "El resultado deber´ıa ser: [(’X’), (’a’, ’b’), (’a’, ’b’, ’c’), ’d’]\n",
    "\n"
   ],
   "metadata": {
    "collapsed": false,
    "pycharm": {
     "name": "#%% md\n"
    }
   }
  },
  {
   "cell_type": "code",
   "execution_count": 35,
   "outputs": [
    {
     "name": "stdout",
     "output_type": "stream",
     "text": [
      "[('X',), ('a', 'b'), ('a', 'b', 'c'), 'd']\n"
     ]
    }
   ],
   "source": [
    "def remove_empty(tuple):\n",
    "    return [ i for i in tuple if len(i)>0 ]\n",
    "\n",
    "print(remove_empty([ (), (), ('X',), ('a','b'), ('a', 'b', 'c'), ('d') ]))\n"
   ],
   "metadata": {
    "collapsed": false,
    "pycharm": {
     "name": "#%%\n"
    }
   }
  },
  {
   "cell_type": "markdown",
   "source": [
    "Ejercicio 6\n",
    "Cree una funcion en Python que dada una tupla de tuplas con numeros, produzca una tupla\n",
    "con el promedio de cada tupla individual. Tomar nota del siguiente ejemplo:\n",
    "Si la tupla de entrada fuera: ((10, 10, 10, 12), (30, 45, 56, 45), (81, 80, 39, 32))\n",
    "El resultado deberıa ser: (10.5, 44, 58)"
   ],
   "metadata": {
    "collapsed": false,
    "pycharm": {
     "name": "#%% md\n"
    }
   }
  },
  {
   "cell_type": "code",
   "execution_count": 36,
   "outputs": [
    {
     "data": {
      "text/plain": "[10.5, 44.0, 58.0]"
     },
     "execution_count": 36,
     "metadata": {},
     "output_type": "execute_result"
    }
   ],
   "source": [
    "def prom_tuple(tuple):\n",
    "    return [sum(i)/len(i) for i in tuple ]\n",
    "prom_tuple( ((10,10,10,12), (30,45,56,45), (81,80,39,32)) )"
   ],
   "metadata": {
    "collapsed": false,
    "pycharm": {
     "name": "#%%\n"
    }
   }
  },
  {
   "cell_type": "markdown",
   "source": [
    "Ejercicio 7\n",
    "Escribir un programa que gestione las facturas pendientes de cobro de una empresa. Las\n",
    "facturas se almacenarán en un diccionario donde la llave de cada factura será el número de\n",
    "factura (debe utilizar un numero de 4 dıgitos) y el valor el coste de la factura. El programa\n",
    "debe preguntar al usuario si quiere añadir una nueva factura, pagar una existente o terminar.\n",
    "Si desea an˜adir una nueva factura se preguntará por el numero de factura y su coste y se\n",
    "an˜adir´a al diccionario, para confirmar que la factura se ingreso correctamente el programa\n",
    "debe desplegar el diccionario completo. Si se desea pagar una factura se preguntar´a por el\n",
    "nu´mero de factura y se eliminar´a del diccionario. Despu´es de cada operaci´on el programa\n",
    "debe mostrar en pantalla la cantidad cobrada hasta el momento y la cantidad pendiente de\n",
    "cobro. Puede utilizar otras estructuras de datos como apoyo si lo considera necesario."
   ],
   "metadata": {
    "collapsed": false,
    "pycharm": {
     "name": "#%% md\n"
    }
   }
  },
  {
   "cell_type": "code",
   "execution_count": 37,
   "outputs": [],
   "source": [
    "def billing_system():\n",
    "    bills = {} #dict\n",
    "    bills_paid = {} #aux dict\n",
    "    while True:\n",
    "        print(\"Bienvenido al sistema de facturación. Ingrese 1 para Añadir, 2 para Pagar, 3 Para terminar\")\n",
    "\n",
    "        action = int(input(\"Opcion\"))\n",
    "\n",
    "        if action == 1:\n",
    "            bill_num = input(\"Ingrese el número de factura:\")\n",
    "            bill_amount = int(input(\"Ingrese el monto de la factura:\"))\n",
    "            bills[bill_num] = bill_amount\n",
    "\n",
    "            print(bills)\n",
    "\n",
    "        elif action == 2:\n",
    "            bill_num =  input(\"Ingrese el número de factura a pagar:\")\n",
    "            if bill_num in bills:\n",
    "                bills_paid[bill_num] = bills[bill_num]\n",
    "                cost = bills.pop(bill_num)\n",
    "                print(cost)\n",
    "\n",
    "                print(\"pendientes\",bills)\n",
    "                print(\"pagadas\",bills_paid)\n",
    "            else:\n",
    "                print(\"No se encontro la factura\")\n",
    "        elif action == 3:\n",
    "            break\n",
    "        else:\n",
    "            print(\"Ingrese una opción valida, 1, 2 o 3.\")\n",
    "\n",
    "        billed = sum(bills_paid.values())\n",
    "        print(\"Cobrado: \", billed)\n",
    "        pending = sum(bills.values())\n",
    "        print(\"Pendiente\", pending)\n",
    "\n",
    "#billing_system()"
   ],
   "metadata": {
    "collapsed": false,
    "pycharm": {
     "name": "#%%\n"
    }
   }
  },
  {
   "cell_type": "markdown",
   "source": [
    "Haga una función en Python, que cree un set con todas las cartas de una baraja de Poker utilizando el siguiente formato: Tipo-Numero. Utilice las letras T para treboles, para\n",
    "corazones, P para picas y E para espadas. Para los nu´meros utilice la numeraci´on del 1 al 13. Por ejemplo E13 - serıa Rey de Espadas, P01 ser´ıa As de Picas, T05 serıa cinco de Treboles. Posteriormente cree una funci´on que dado el conjunto anterior cree dos sets nuevos de cartas,\n",
    "cada conjunto debe tener una cantidad variable de elementos, puede utilizar nu´meros aleatorios enteros para definir la longitud de los conjuntos.\n",
    "Adicionalmente, deberá calcular la probabilidad de la intersección de ambos conjuntos y demuestre si son eventos independientes con la regla del producto.\n",
    "Para concluir, calcule probabilidad de la uni´on de ambos conjuntos y demuestre que se cumple\n",
    "la regla de la adición."
   ],
   "metadata": {
    "collapsed": false,
    "pycharm": {
     "name": "#%% md\n"
    }
   }
  },
  {
   "cell_type": "code",
   "execution_count": 38,
   "outputs": [
    {
     "name": "stdout",
     "output_type": "stream",
     "text": [
      "Prob set1:  0.038461538461538464\n",
      "Prob set2:  0.3269230769230769\n",
      "Prob. de interseccion:  0.019230769230769232\n",
      "Prob union de los conjuntos:  0.34615384615384615\n"
     ]
    },
    {
     "name": "stderr",
     "output_type": "stream",
     "text": [
      "C:\\Users\\JesúsPonte\\AppData\\Local\\Temp\\ipykernel_9196\\2970209204.py:19: DeprecationWarning: Sampling from a set deprecated\n",
      "since Python 3.9 and will be removed in a subsequent version.\n",
      "  random_set_1 = set(random.sample(deck, random.randint(1, len(deck))))\n",
      "C:\\Users\\JesúsPonte\\AppData\\Local\\Temp\\ipykernel_9196\\2970209204.py:20: DeprecationWarning: Sampling from a set deprecated\n",
      "since Python 3.9 and will be removed in a subsequent version.\n",
      "  random_set_2 = set(random.sample(deck, random.randint(1, len(deck))))\n"
     ]
    }
   ],
   "source": [
    "import random\n",
    "def create_deck():\n",
    "    deck = set()\n",
    "    types = [\"T\", \"C\", \"P\", \"E\"]\n",
    "    numbers = range(1,14)\n",
    "\n",
    "    for type in types:\n",
    "        for number in numbers:\n",
    "            if number <10:\n",
    "                deck.add(type + \"0\" + str(number))\n",
    "            else:\n",
    "                deck.add(type + str(number))\n",
    "    return deck\n",
    "\n",
    "\n",
    "deck1 = create_deck()\n",
    "\n",
    "def random_sets(deck):\n",
    "    random_set_1 = set(random.sample(deck, random.randint(1, len(deck))))\n",
    "    random_set_2 = set(random.sample(deck, random.randint(1, len(deck))))\n",
    "\n",
    "    return random_set_1, random_set_2\n",
    "\n",
    "set1, set2 = random_sets(deck1)\n",
    "\n",
    "def calc_prob(deck, set1, set2):\n",
    "    s = len(deck)\n",
    "    intersection = set1.intersection(set2)\n",
    "\n",
    "    len_intersection = len(intersection)\n",
    "    prob_intersection = len_intersection / s\n",
    "    #print(prob_intersection)\n",
    "\n",
    "    prob1 = len(set1) / s\n",
    "    prob2 = len(set2) / s\n",
    "\n",
    "    #Regla producto\n",
    "    reg_product = prob1 * prob2\n",
    "    #print(reg_product)\n",
    "    if reg_product == prob_intersection:\n",
    "        print(\"Son independientes\")\n",
    "\n",
    "    union = set1.union(set2)\n",
    "    len_union = len(union)\n",
    "    prob_union = len_union / s\n",
    "    #print(prob_union)\n",
    "\n",
    "    ley_adicion = prob1 + prob2 - prob_intersection\n",
    "    #print(ley_adicion)\n",
    "    if ley_adicion == prob_union:\n",
    "        print(\"Se cumple la ley de adicion\")\n",
    "\n",
    "    print(\"Prob set1: \", prob1)\n",
    "    print(\"Prob set2: \", prob2)\n",
    "    print(\"Prob. de interseccion: \", prob_intersection)\n",
    "    print(\"Prob union de los conjuntos: \", prob_union)\n",
    "\n",
    "calc_prob(deck1, set1, set2)"
   ],
   "metadata": {
    "collapsed": false,
    "pycharm": {
     "name": "#%%\n"
    }
   }
  },
  {
   "cell_type": "code",
   "execution_count": 38,
   "outputs": [],
   "source": [],
   "metadata": {
    "collapsed": false,
    "pycharm": {
     "name": "#%%\n"
    }
   }
  }
 ],
 "metadata": {
  "kernelspec": {
   "display_name": "Python 3",
   "language": "python",
   "name": "python3"
  },
  "language_info": {
   "codemirror_mode": {
    "name": "ipython",
    "version": 2
   },
   "file_extension": ".py",
   "mimetype": "text/x-python",
   "name": "python",
   "nbconvert_exporter": "python",
   "pygments_lexer": "ipython2",
   "version": "2.7.6"
  }
 },
 "nbformat": 4,
 "nbformat_minor": 0
}