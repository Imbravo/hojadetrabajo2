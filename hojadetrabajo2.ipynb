{
 "cells": [
  {
   "cell_type": "markdown",
   "source": [
    "Ciencia de Datos en Python\n",
    "Hoja de Trabajo #2 - Sintaxis y Estructuras de Datos"
   ],
   "metadata": {
    "collapsed": false,
    "pycharm": {
     "name": "#%% md\n"
    }
   }
  },
  {
   "cell_type": "markdown",
   "source": [
    "1. Haga un programa en Python que reciba de parametro un numero de segundos y que despliegue en pantalla, las horas, minutos y segundos que representan. Por ejemplo:\n",
    "Si el nu´mero de segundos recibidos fuera: 2743 entonces su programa deber´ıa desplegar:\n",
    "Horas: 0, Minutos: 45 , Segundos: 43\n",
    "Si el nu´mero de segundos recibidos fuera 5871: Horas: 1, Minutos: 37 , Segundos: 51"
   ],
   "metadata": {
    "collapsed": false,
    "pycharm": {
     "name": "#%% md\n"
    }
   }
  },
  {
   "cell_type": "code",
   "execution_count": 29,
   "outputs": [],
   "source": [
    "def secsTohours(seconds):\n",
    "    hours = seconds // 3600\n",
    "    seconds = seconds % 3600\n",
    "    minutes = seconds // 60\n",
    "    seconds = seconds % 60\n",
    "\n",
    "    print(\"Horas: \"+str(hours)+\" Minutos: \"+ str(minutes) + \" Segundos: \"+str(seconds))"
   ],
   "metadata": {
    "collapsed": false,
    "pycharm": {
     "name": "#%%\n"
    }
   }
  },
  {
   "cell_type": "code",
   "execution_count": 30,
   "outputs": [
    {
     "name": "stdout",
     "output_type": "stream",
     "text": [
      "Horas: 1 Minutos: 37 Segundos: 51\n"
     ]
    }
   ],
   "source": [
    "secsTohours(5871)"
   ],
   "metadata": {
    "collapsed": false,
    "pycharm": {
     "name": "#%%\n"
    }
   }
  },
  {
   "cell_type": "markdown",
   "source": [
    "2. Haga una funci´on en Python que dado un nu´mero entre 1 y 20. Y un car´acter cualquiera\n",
    "despliegue cuatro patrones triangulares.\n",
    "Por ejemplo si el usuario ingresara el nu´mero 4 y el s´ımbolo * el programa deber´a desplegar\n",
    "lo siguiente:"
   ],
   "metadata": {
    "collapsed": false,
    "pycharm": {
     "name": "#%% md\n"
    }
   }
  },
  {
   "cell_type": "code",
   "execution_count": 48,
   "outputs": [
    {
     "name": "stdout",
     "output_type": "stream",
     "text": [
      "*\n",
      "**\n",
      "***\n",
      "****\n",
      " \n",
      "****\n",
      " ***\n",
      "  **\n",
      "   *\n",
      " \n",
      "****\n",
      "***\n",
      "**\n",
      "*\n",
      " \n",
      "   *\n",
      "  **\n",
      " ***\n",
      "****\n"
     ]
    }
   ],
   "source": [
    "def triangles(number, symbol):\n",
    "    for num in range(1, number+1):\n",
    "        print(symbol*num)\n",
    "\n",
    "    print(\" \")\n",
    "    for num in range(number, 0, -1):\n",
    "        print(\" \"*(number-num) + symbol*num)\n",
    "\n",
    "    print(\" \")\n",
    "    for num in range(number, 0, -1):\n",
    "        print(symbol*num)\n",
    "\n",
    "    print(\" \")\n",
    "\n",
    "    for num in range(1, number+1):\n",
    "        print(\" \"*(number-num) + symbol*num )\n",
    "\n",
    "triangles(4, \"*\")"
   ],
   "metadata": {
    "collapsed": false,
    "pycharm": {
     "name": "#%%\n"
    }
   }
  },
  {
   "cell_type": "markdown",
   "source": [
    "3. Haga un programa en Python que la fecha de nacimiento de una persona (puede ingresar por\n",
    "separado cada valor, es decir pedir primero d´ıa, luego mes y luego an˜o), despliegue la edad\n",
    "de la persona en an˜os, meses y d´ıas. Su resultado puede ser aproximado."
   ],
   "metadata": {
    "collapsed": false,
    "pycharm": {
     "name": "#%% md\n"
    }
   }
  },
  {
   "cell_type": "code",
   "execution_count": 32,
   "outputs": [],
   "source": [
    "from datetime import date\n",
    "def bdToTime(day, month, year):\n",
    "\n",
    "    dateNow = date.today()\n",
    "    birth = date(year, month, day)\n",
    "    date_delta = dateNow - birth\n",
    "\n",
    "    age_years = date_delta.days // 365\n",
    "    days_diff = date_delta.days % 365\n",
    "    age_months = days_diff // 30\n",
    "    age_days = days_diff % 30\n",
    "\n",
    "    print(\"Años \"+ str(age_years) + \" Meses: \"+ str(age_months) + \" Dias: \"+ str(age_days))\n"
   ],
   "metadata": {
    "collapsed": false,
    "pycharm": {
     "name": "#%%\n"
    }
   }
  },
  {
   "cell_type": "code",
   "execution_count": 33,
   "outputs": [
    {
     "name": "stdout",
     "output_type": "stream",
     "text": [
      "Años 27 Meses: 3 Dias: 7\n"
     ]
    }
   ],
   "source": [
    "bdToTime(29,11,1995)"
   ],
   "metadata": {
    "collapsed": false,
    "pycharm": {
     "name": "#%%\n"
    }
   }
  },
  {
   "cell_type": "markdown",
   "source": [
    "ejercicio 4"
   ],
   "metadata": {
    "collapsed": false,
    "pycharm": {
     "name": "#%% md\n"
    }
   }
  },
  {
   "cell_type": "code",
   "execution_count": 34,
   "outputs": [
    {
     "name": "stdout",
     "output_type": "stream",
     "text": [
      "102040570\n"
     ]
    }
   ],
   "source": [
    "def concat_tuple(tuple):\n",
    "\n",
    "    string = [ str(i) for i in tuple]\n",
    "    result = \"\".join(string)\n",
    "    return result\n",
    "\n",
    "print(concat_tuple((10,20,40,5,70)))"
   ],
   "metadata": {
    "collapsed": false,
    "pycharm": {
     "name": "#%%\n"
    }
   }
  },
  {
   "cell_type": "markdown",
   "source": [
    "ejercicio 5"
   ],
   "metadata": {
    "collapsed": false,
    "pycharm": {
     "name": "#%% md\n"
    }
   }
  },
  {
   "cell_type": "code",
   "execution_count": 35,
   "outputs": [
    {
     "name": "stdout",
     "output_type": "stream",
     "text": [
      "[('X',), ('a', 'b'), ('a', 'b', 'c'), 'd']\n"
     ]
    }
   ],
   "source": [
    "def remove_empty(tuple):\n",
    "    return [ i for i in tuple if len(i)>0 ]\n",
    "\n",
    "print(remove_empty([ (), (), ('X',), ('a','b'), ('a', 'b', 'c'), ('d') ]))\n"
   ],
   "metadata": {
    "collapsed": false,
    "pycharm": {
     "name": "#%%\n"
    }
   }
  },
  {
   "cell_type": "markdown",
   "source": [
    "ejercicio 6"
   ],
   "metadata": {
    "collapsed": false,
    "pycharm": {
     "name": "#%% md\n"
    }
   }
  },
  {
   "cell_type": "code",
   "execution_count": 36,
   "outputs": [
    {
     "data": {
      "text/plain": "[10.5, 44.0, 58.0]"
     },
     "execution_count": 36,
     "metadata": {},
     "output_type": "execute_result"
    }
   ],
   "source": [
    "def prom_tuple(tuple):\n",
    "    return [sum(i)/len(i) for i in tuple ]\n",
    "prom_tuple( ((10,10,10,12), (30,45,56,45), (81,80,39,32)) )"
   ],
   "metadata": {
    "collapsed": false,
    "pycharm": {
     "name": "#%%\n"
    }
   }
  },
  {
   "cell_type": "markdown",
   "source": [
    "Ejercicio 7"
   ],
   "metadata": {
    "collapsed": false,
    "pycharm": {
     "name": "#%% md\n"
    }
   }
  },
  {
   "cell_type": "code",
   "execution_count": 37,
   "outputs": [],
   "source": [
    "def billing_system():\n",
    "    bills = {} #dict\n",
    "    bills_paid = {} #aux dict\n",
    "    while True:\n",
    "        print(\"Bienvenido al sistema de facturación. Ingrese 1 para Añadir, 2 para Pagar, 3 Para terminar\")\n",
    "\n",
    "        action = int(input(\"Opcion\"))\n",
    "\n",
    "        if action == 1:\n",
    "            bill_num = input(\"Ingrese el número de factura:\")\n",
    "            bill_amount = int(input(\"Ingrese el monto de la factura:\"))\n",
    "            bills[bill_num] = bill_amount\n",
    "\n",
    "            print(bills)\n",
    "\n",
    "        elif action == 2:\n",
    "            bill_num =  input(\"Ingrese el número de factura a pagar:\")\n",
    "            if bill_num in bills:\n",
    "                bills_paid[bill_num] = bills[bill_num]\n",
    "                cost = bills.pop(bill_num)\n",
    "                print(cost)\n",
    "\n",
    "                print(\"pendientes\",bills)\n",
    "                print(\"pagadas\",bills_paid)\n",
    "            else:\n",
    "                print(\"No se encontro la factura\")\n",
    "        elif action == 3:\n",
    "            break\n",
    "        else:\n",
    "            print(\"Ingrese una opción valida, 1, 2 o 3.\")\n",
    "\n",
    "        billed = sum(bills_paid.values())\n",
    "        print(\"Cobrado: \", billed)\n",
    "        pending = sum(bills.values())\n",
    "        print(\"Pendiente\", pending)\n",
    "\n",
    "#billing_system()"
   ],
   "metadata": {
    "collapsed": false,
    "pycharm": {
     "name": "#%%\n"
    }
   }
  },
  {
   "cell_type": "markdown",
   "source": [
    "Ejercicio 8"
   ],
   "metadata": {
    "collapsed": false,
    "pycharm": {
     "name": "#%% md\n"
    }
   }
  },
  {
   "cell_type": "code",
   "execution_count": 38,
   "outputs": [
    {
     "name": "stdout",
     "output_type": "stream",
     "text": [
      "Prob set1:  0.038461538461538464\n",
      "Prob set2:  0.3269230769230769\n",
      "Prob. de interseccion:  0.019230769230769232\n",
      "Prob union de los conjuntos:  0.34615384615384615\n"
     ]
    },
    {
     "name": "stderr",
     "output_type": "stream",
     "text": [
      "C:\\Users\\JesúsPonte\\AppData\\Local\\Temp\\ipykernel_9196\\2970209204.py:19: DeprecationWarning: Sampling from a set deprecated\n",
      "since Python 3.9 and will be removed in a subsequent version.\n",
      "  random_set_1 = set(random.sample(deck, random.randint(1, len(deck))))\n",
      "C:\\Users\\JesúsPonte\\AppData\\Local\\Temp\\ipykernel_9196\\2970209204.py:20: DeprecationWarning: Sampling from a set deprecated\n",
      "since Python 3.9 and will be removed in a subsequent version.\n",
      "  random_set_2 = set(random.sample(deck, random.randint(1, len(deck))))\n"
     ]
    }
   ],
   "source": [
    "import random\n",
    "def create_deck():\n",
    "    deck = set()\n",
    "    types = [\"T\", \"C\", \"P\", \"E\"]\n",
    "    numbers = range(1,14)\n",
    "\n",
    "    for type in types:\n",
    "        for number in numbers:\n",
    "            if number <10:\n",
    "                deck.add(type + \"0\" + str(number))\n",
    "            else:\n",
    "                deck.add(type + str(number))\n",
    "    return deck\n",
    "\n",
    "\n",
    "deck1 = create_deck()\n",
    "\n",
    "def random_sets(deck):\n",
    "    random_set_1 = set(random.sample(deck, random.randint(1, len(deck))))\n",
    "    random_set_2 = set(random.sample(deck, random.randint(1, len(deck))))\n",
    "\n",
    "    return random_set_1, random_set_2\n",
    "\n",
    "set1, set2 = random_sets(deck1)\n",
    "\n",
    "def calc_prob(deck, set1, set2):\n",
    "    s = len(deck)\n",
    "    intersection = set1.intersection(set2)\n",
    "\n",
    "    len_intersection = len(intersection)\n",
    "    prob_intersection = len_intersection / s\n",
    "    #print(prob_intersection)\n",
    "\n",
    "    prob1 = len(set1) / s\n",
    "    prob2 = len(set2) / s\n",
    "\n",
    "    #Regla producto\n",
    "    reg_product = prob1 * prob2\n",
    "    #print(reg_product)\n",
    "    if reg_product == prob_intersection:\n",
    "        print(\"Son independientes\")\n",
    "\n",
    "    union = set1.union(set2)\n",
    "    len_union = len(union)\n",
    "    prob_union = len_union / s\n",
    "    #print(prob_union)\n",
    "\n",
    "    ley_adicion = prob1 + prob2 - prob_intersection\n",
    "    #print(ley_adicion)\n",
    "    if ley_adicion == prob_union:\n",
    "        print(\"Se cumple la ley de adicion\")\n",
    "\n",
    "    print(\"Prob set1: \", prob1)\n",
    "    print(\"Prob set2: \", prob2)\n",
    "    print(\"Prob. de interseccion: \", prob_intersection)\n",
    "    print(\"Prob union de los conjuntos: \", prob_union)\n",
    "\n",
    "calc_prob(deck1, set1, set2)"
   ],
   "metadata": {
    "collapsed": false,
    "pycharm": {
     "name": "#%%\n"
    }
   }
  },
  {
   "cell_type": "code",
   "execution_count": 38,
   "outputs": [],
   "source": [],
   "metadata": {
    "collapsed": false,
    "pycharm": {
     "name": "#%%\n"
    }
   }
  }
 ],
 "metadata": {
  "kernelspec": {
   "display_name": "Python 3",
   "language": "python",
   "name": "python3"
  },
  "language_info": {
   "codemirror_mode": {
    "name": "ipython",
    "version": 2
   },
   "file_extension": ".py",
   "mimetype": "text/x-python",
   "name": "python",
   "nbconvert_exporter": "python",
   "pygments_lexer": "ipython2",
   "version": "2.7.6"
  }
 },
 "nbformat": 4,
 "nbformat_minor": 0
}